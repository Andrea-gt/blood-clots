{
  "cells": [
    {
      "cell_type": "markdown",
      "metadata": {
        "id": "ziQaJdvqh88F"
      },
      "source": [
        "# **Lorem ipsum dolor sit amet, consectetur adipiscing elit.**"
      ]
    },
    {
      "cell_type": "markdown",
      "metadata": {
        "id": "2kK9OsnqiC9h"
      },
      "source": [
        "Lorem ipsum dolor sit amet, consectetur adipiscing elit. Vivamus at urna lacus. Proin lacinia consectetur lobortis. Integer id lacus elementum, luctus augue ac, interdum nunc. Nam tempus, nibh a pellentesque scelerisque, velit urna maximus magna, et hendrerit ipsum sem a enim. Sed pretium vehicula lectus, in vestibulum turpis tristique at. Nam vel elementum ipsum. Suspendisse aliquet libero enim, suscipit posuere libero gravida a. Maecenas commodo, neque vel iaculis auctor, dolor odio rhoncus mi, sit amet sagittis quam turpis sit amet augue. Phasellus quis leo vitae ipsum fermentum facilisis. Suspendisse non est mollis, aliquam tortor at, maximus lacus. Mauris pellentesque vestibulum imperdiet. Nullam dignissim malesuada ipsum, et pretium lorem. Morbi risus libero, consectetur porta vulputate id, hendrerit hendrerit nulla. Duis ut tellus nec erat ullamcorper faucibus. Sed dapibus neque ut metus consectetur laoreet. Donec tincidunt sapien at neque scelerisque, vel mollis arcu fermentum."
      ]
    },
    {
      "cell_type": "markdown",
      "metadata": {
        "id": "CXBxh8WPiG7b"
      },
      "source": [
        "**Authors:**\n",
        "- [Daniel Valdez](https://github.com/Danval-003)\n",
        "- [Emilio Solano](https://github.com/emiliosolanoo21)\n",
        "- [Adrian Flores](https://github.com/adrianRFlores)\n",
        "- [Andrea Ramírez](https://github.com/Andrea-gt)"
      ]
    },
    {
      "cell_type": "markdown",
      "metadata": {
        "id": "sQGNhxwEiJKw"
      },
      "source": [
        "***"
      ]
    },
    {
      "cell_type": "markdown",
      "metadata": {
        "id": "63DGMm3MiMEh"
      },
      "source": [
        "## **(1) Import Libraries** ⬇️"
      ]
    },
    {
      "cell_type": "code",
      "execution_count": 5,
      "metadata": {
        "id": "AP02dNX3cF31"
      },
      "outputs": [],
      "source": [
        "# Data manipulation and visualization\n",
        "import matplotlib.pyplot as plt\n",
        "import numpy as np\n",
        "import pandas as pd\n",
        "import seaborn as sns\n",
        "from sklearn.model_selection import train_test_split\n",
        "#from google.colab import files\n",
        "\n",
        "# Standard libraries\n",
        "import warnings\n",
        "warnings.filterwarnings('ignore')\n",
        "\n",
        "# ===== ===== Reproducibility Seed ===== =====\n",
        "# Set a fixed seed for the random number generator for reproducibility\n",
        "random_state = 42\n",
        "\n",
        "# Set matplotlib inline\n",
        "%matplotlib inline\n",
        "\n",
        "# Set default figure size\n",
        "plt.rcParams['figure.figsize'] = (6, 4)\n",
        "\n",
        "# Define custom color palette\n",
        "palette = sns.color_palette(\"viridis\", 12)\n",
        "\n",
        "# Set the style of seaborn\n",
        "sns.set(style=\"whitegrid\")"
      ]
    },
    {
      "cell_type": "markdown",
      "metadata": {
        "id": "fsI-gEUliSPC"
      },
      "source": [
        "## **(2) Data Upload** 📄"
      ]
    },
    {
      "cell_type": "code",
      "execution_count": null,
      "metadata": {
        "colab": {
          "base_uri": "https://localhost:8080/",
          "height": 111
        },
        "id": "X6iQ8orciQn9",
        "outputId": "81982b77-a91c-4e5a-f4bc-6de74f1bd2e9"
      },
      "outputs": [],
      "source": [
        "# Loading the Dataset from Kaggle - Mayo Clinic Strip AI \n",
        "# **Only use if in Colab, else download the dataset manually.**\n",
        "# =======================================\n",
        "#\n",
        "# Before running the command to download the dataset, there are a few steps that need to be followed:\n",
        "#\n",
        "# Step 1: Generate a Kaggle API Token\n",
        "# -----------------------------------\n",
        "# 1. Go to the Kaggle website (https://www.kaggle.com/).\n",
        "# 2. Log in to your Kaggle account.\n",
        "# 3. Navigate to \"My Account\" by clicking on your profile picture in the top right corner.\n",
        "# 4. Scroll down to the \"API\" section.\n",
        "# 5. Click on the \"Create New API Token\" button. This will download a file called `kaggle.json`, which contains your API credentials.\n",
        "# 6. Upload the generated file to the Colab environment using this cell.\n",
        "\n",
        "uploaded = files.upload()\n",
        "# Iterate over the files uploaded by the user\n",
        "for fn in uploaded.keys():\n",
        "    # Print information about each uploaded file, including its name and size in bytes\n",
        "    print('User uploaded file \"{name}\" with length {length} bytes'.format(\n",
        "        name=fn, length=len(uploaded[fn])))\n",
        "# Create the directory ~/.kaggle if it does not exist. This directory is where Kaggle API expects configuration files.\n",
        "!mkdir -p ~/.kaggle/\n",
        "# Move the uploaded kaggle.json file into the ~/.kaggle/ directory. This file contains API credentials for Kaggle.\n",
        "!mv kaggle.json ~/.kaggle/\n",
        "# Set the permissions of kaggle.json to be readable only by the owner. This is necessary for security reasons.\n",
        "!chmod 600 ~/.kaggle/kaggle.json"
      ]
    },
    {
      "cell_type": "code",
      "execution_count": null,
      "metadata": {
        "colab": {
          "base_uri": "https://localhost:8080/"
        },
        "id": "xVlyn5Daiu8Z",
        "outputId": "8000ea1e-6a12-4177-a1a4-4f4f400bc0a4"
      },
      "outputs": [],
      "source": [
        "# Step 2: Download the Dataset from the Competition\n",
        "# -------------------------------------------------\n",
        "# Once you've completed the above step, you can use the following command to download the dataset for the Mayo Clinic Strip AI competition:\n",
        "# Note: Make sure to accept the competitions rules beforehand.\n",
        "\n",
        "#!kaggle competitions download -c mayo-clinic-strip-ai"
      ]
    },
    {
      "cell_type": "code",
      "execution_count": null,
      "metadata": {
        "id": "G_uSX5x2kbsN"
      },
      "outputs": [],
      "source": [
        "# The dataset will be downloaded to your current directory. You can then unzip and load the dataset for analysis.\n",
        "#!unzip /content/mayo-clinic-strip-ai.zip"
      ]
    },
    {
      "cell_type": "code",
      "execution_count": null,
      "metadata": {
        "id": "WIj3lNgYmBA7"
      },
      "outputs": [],
      "source": [
        "# Note:\n",
        "# -----\n",
        "# For this specific task, we are only using the training data (`train.csv`) throughout most of our analysis.\n",
        "# The test dataset (`test.csv`) will not be used until the very end when making final predictions.\n",
        "# We will train, validate, and tune your model using the training data only.\n",
        "#\n",
        "# The reason the test data is only used at the very end is to prevent any bias during model training and evaluation.\n",
        "# We want the test data to remain completely unseen until after we've finalized our model so that it can serve\n",
        "# as a true evaluation of our model's performance.\n",
        "# ---------------------------------------------\n",
        "\n",
        "df = pd.read_csv('../content/mayo-clinic-strip-ai/train.csv')  # Load the training data\n",
        "df.head()  # Display the first 5 rows of the DataFrame for a quick inspection of the data"
      ]
    }
  ],
  "metadata": {
    "colab": {
      "provenance": []
    },
    "kernelspec": {
      "display_name": "Python 3",
      "name": "python3"
    },
    "language_info": {
      "codemirror_mode": {
        "name": "ipython",
        "version": 3
      },
      "file_extension": ".py",
      "mimetype": "text/x-python",
      "name": "python",
      "nbconvert_exporter": "python",
      "pygments_lexer": "ipython3",
      "version": "3.10.12"
    }
  },
  "nbformat": 4,
  "nbformat_minor": 0
}
